{
 "cells": [
  {
   "cell_type": "code",
   "execution_count": 1,
   "id": "7bada32a-209b-41aa-a64f-ef5baadd1644",
   "metadata": {
    "tags": []
   },
   "outputs": [],
   "source": [
    "# Imports\n",
    "import yfinance as yf\n",
    "import pandas as pd\n",
    "from pandas_datareader import data as pdr\n",
    "from yahoo_fin import stock_info as si\n",
    "import datetime\n",
    "import time\n",
    "\n",
    "# Override yfinance API\n",
    "yf.pdr_override()"
   ]
  },
  {
   "cell_type": "code",
   "execution_count": 2,
   "id": "3889ff2a-dc8f-4d5e-ab55-08a7f0840206",
   "metadata": {
    "tags": []
   },
   "outputs": [],
   "source": [
    "# Get tickers for all S&P 500 stocks and replace \".\" with \"-\" for compatibility with Yahoo Finance\n",
    "sp500_tickers = si.tickers_sp500()\n",
    "sp500_tickers = [ticker.replace(\".\", \"-\") for ticker in sp500_tickers]"
   ]
  },
  {
   "cell_type": "code",
   "execution_count": 8,
   "id": "ecf1156b-6823-4579-b7a8-57799a57fc21",
   "metadata": {
    "tags": []
   },
   "outputs": [],
   "source": [
    "# Define S&P 500 index\n",
    "sp500_index = 'SPY'\n",
    "\n",
    "# Define date range for stock data\n",
    "start_date = datetime.datetime.now() - datetime.timedelta(days=365)\n",
    "end_date = datetime.date.today()"
   ]
  },
  {
   "cell_type": "code",
   "execution_count": 9,
   "id": "c0e2de7c-ed13-46b4-94ff-8e23718f06b3",
   "metadata": {
    "tags": []
   },
   "outputs": [],
   "source": [
    "# Create empty list to store relative returns for each stock\n",
    "relative_returns = []"
   ]
  },
  {
   "cell_type": "code",
   "execution_count": 10,
   "id": "9422462b-64de-4f80-9f85-718a23e79e72",
   "metadata": {
    "tags": []
   },
   "outputs": [
    {
     "name": "stdout",
     "output_type": "stream",
     "text": [
      "[*********************100%%**********************]  1 of 1 completed\n"
     ]
    }
   ],
   "source": [
    "# Retrieve historical price data for the S&P 500 index\n",
    "sp500_df = pdr.get_data_yahoo(sp500_index, start_date, end_date)\n",
    "sp500_df['Percent Change'] = sp500_df['Adj Close'].pct_change()\n",
    "sp500_returns = sp500_df['Percent Change'].cumprod()\n",
    "sp500_return = sp500_returns.iloc[-1]"
   ]
  },
  {
   "cell_type": "code",
   "execution_count": 11,
   "id": "56b8a297-4675-49fb-81b0-127d5f05226d",
   "metadata": {
    "tags": []
   },
   "outputs": [
    {
     "data": {
      "text/plain": [
       "Date\n",
       "2022-09-20             NaN\n",
       "2022-09-21   -1.744383e-02\n",
       "2022-09-22    1.465265e-04\n",
       "2022-09-23   -2.455015e-06\n",
       "2022-09-26    2.428682e-08\n",
       "                  ...     \n",
       "2023-09-13    0.000000e+00\n",
       "2023-09-14    0.000000e+00\n",
       "2023-09-15   -0.000000e+00\n",
       "2023-09-18   -0.000000e+00\n",
       "2023-09-19    0.000000e+00\n",
       "Name: Percent Change, Length: 251, dtype: float64"
      ]
     },
     "execution_count": 11,
     "metadata": {},
     "output_type": "execute_result"
    }
   ],
   "source": [
    "sp500_returns"
   ]
  },
  {
   "cell_type": "code",
   "execution_count": 12,
   "id": "e85c6d42-c351-4f95-b526-f1019796a0b5",
   "metadata": {
    "tags": []
   },
   "outputs": [
    {
     "name": "stdout",
     "output_type": "stream",
     "text": [
      "[*********************100%%**********************]  1 of 1 completed"
     ]
    },
    {
     "name": "stderr",
     "output_type": "stream",
     "text": [
      "\n",
      "1 Failed download:\n",
      "['-']: Exception('%ticker%: No timezone found, symbol may be delisted')\n"
     ]
    },
    {
     "name": "stdout",
     "output_type": "stream",
     "text": [
      "\n"
     ]
    },
    {
     "ename": "IndexError",
     "evalue": "single positional indexer is out-of-bounds",
     "output_type": "error",
     "traceback": [
      "\u001b[1;31m---------------------------------------------------------------------------\u001b[0m",
      "\u001b[1;31mIndexError\u001b[0m                                Traceback (most recent call last)",
      "Cell \u001b[1;32mIn[12], line 12\u001b[0m\n\u001b[0;32m     10\u001b[0m \u001b[38;5;66;03m# Calculate the relative return with double weight for the most recent quarter\u001b[39;00m\n\u001b[0;32m     11\u001b[0m stock_returns \u001b[38;5;241m=\u001b[39m stock_df[\u001b[38;5;124m'\u001b[39m\u001b[38;5;124mPercent Change\u001b[39m\u001b[38;5;124m'\u001b[39m]\u001b[38;5;241m.\u001b[39mcumprod()\n\u001b[1;32m---> 12\u001b[0m stock_return \u001b[38;5;241m=\u001b[39m (stock_returns\u001b[38;5;241m.\u001b[39miloc[\u001b[38;5;241m-\u001b[39m\u001b[38;5;241m10\u001b[39m] \u001b[38;5;241m*\u001b[39m \u001b[38;5;241m2\u001b[39m \u001b[38;5;241m+\u001b[39m stock_returns\u001b[38;5;241m.\u001b[39miloc[\u001b[38;5;241m-\u001b[39m\u001b[38;5;241m63\u001b[39m]) \u001b[38;5;241m/\u001b[39m \u001b[38;5;241m3\u001b[39m \u001b[38;5;66;03m# Double weight for the most recent quarter\u001b[39;00m\n\u001b[0;32m     13\u001b[0m relative_return \u001b[38;5;241m=\u001b[39m stock_return \u001b[38;5;241m/\u001b[39m sp500_return\n\u001b[0;32m     14\u001b[0m relative_returns\u001b[38;5;241m.\u001b[39mappend(relative_return)\n",
      "File \u001b[1;32m~\\anaconda3\\Lib\\site-packages\\pandas\\core\\indexing.py:1103\u001b[0m, in \u001b[0;36m_LocationIndexer.__getitem__\u001b[1;34m(self, key)\u001b[0m\n\u001b[0;32m   1100\u001b[0m axis \u001b[38;5;241m=\u001b[39m \u001b[38;5;28mself\u001b[39m\u001b[38;5;241m.\u001b[39maxis \u001b[38;5;129;01mor\u001b[39;00m \u001b[38;5;241m0\u001b[39m\n\u001b[0;32m   1102\u001b[0m maybe_callable \u001b[38;5;241m=\u001b[39m com\u001b[38;5;241m.\u001b[39mapply_if_callable(key, \u001b[38;5;28mself\u001b[39m\u001b[38;5;241m.\u001b[39mobj)\n\u001b[1;32m-> 1103\u001b[0m \u001b[38;5;28;01mreturn\u001b[39;00m \u001b[38;5;28mself\u001b[39m\u001b[38;5;241m.\u001b[39m_getitem_axis(maybe_callable, axis\u001b[38;5;241m=\u001b[39maxis)\n",
      "File \u001b[1;32m~\\anaconda3\\Lib\\site-packages\\pandas\\core\\indexing.py:1656\u001b[0m, in \u001b[0;36m_iLocIndexer._getitem_axis\u001b[1;34m(self, key, axis)\u001b[0m\n\u001b[0;32m   1653\u001b[0m     \u001b[38;5;28;01mraise\u001b[39;00m \u001b[38;5;167;01mTypeError\u001b[39;00m(\u001b[38;5;124m\"\u001b[39m\u001b[38;5;124mCannot index by location index with a non-integer key\u001b[39m\u001b[38;5;124m\"\u001b[39m)\n\u001b[0;32m   1655\u001b[0m \u001b[38;5;66;03m# validate the location\u001b[39;00m\n\u001b[1;32m-> 1656\u001b[0m \u001b[38;5;28mself\u001b[39m\u001b[38;5;241m.\u001b[39m_validate_integer(key, axis)\n\u001b[0;32m   1658\u001b[0m \u001b[38;5;28;01mreturn\u001b[39;00m \u001b[38;5;28mself\u001b[39m\u001b[38;5;241m.\u001b[39mobj\u001b[38;5;241m.\u001b[39m_ixs(key, axis\u001b[38;5;241m=\u001b[39maxis)\n",
      "File \u001b[1;32m~\\anaconda3\\Lib\\site-packages\\pandas\\core\\indexing.py:1589\u001b[0m, in \u001b[0;36m_iLocIndexer._validate_integer\u001b[1;34m(self, key, axis)\u001b[0m\n\u001b[0;32m   1587\u001b[0m len_axis \u001b[38;5;241m=\u001b[39m \u001b[38;5;28mlen\u001b[39m(\u001b[38;5;28mself\u001b[39m\u001b[38;5;241m.\u001b[39mobj\u001b[38;5;241m.\u001b[39m_get_axis(axis))\n\u001b[0;32m   1588\u001b[0m \u001b[38;5;28;01mif\u001b[39;00m key \u001b[38;5;241m>\u001b[39m\u001b[38;5;241m=\u001b[39m len_axis \u001b[38;5;129;01mor\u001b[39;00m key \u001b[38;5;241m<\u001b[39m \u001b[38;5;241m-\u001b[39mlen_axis:\n\u001b[1;32m-> 1589\u001b[0m     \u001b[38;5;28;01mraise\u001b[39;00m \u001b[38;5;167;01mIndexError\u001b[39;00m(\u001b[38;5;124m\"\u001b[39m\u001b[38;5;124msingle positional indexer is out-of-bounds\u001b[39m\u001b[38;5;124m\"\u001b[39m)\n",
      "\u001b[1;31mIndexError\u001b[0m: single positional indexer is out-of-bounds"
     ]
    }
   ],
   "source": [
    "# Iterate over all S&P 500 stocks to calculate their relative returns\n",
    "for ticker in sp500_tickers:\n",
    "    # Download historical data as CSV for each stock to speed up the process\n",
    "    stock_df = pdr.get_data_yahoo(ticker, start_date, end_date)\n",
    "    stock_df.to_csv(f'{ticker}.csv')\n",
    "    \n",
    "    # Calculate percent change column\n",
    "    stock_df['Percent Change'] = stock_df['Adj Close'].pct_change()\n",
    "    \n",
    "    # Calculate the relative return with double weight for the most recent quarter\n",
    "    stock_returns = stock_df['Percent Change'].cumprod()\n",
    "    stock_return = (stock_returns.iloc[-10] * 2 + stock_returns.iloc[-63]) / 3 # Double weight for the most recent quarter\n",
    "    relative_return = stock_return / sp500_return\n",
    "    relative_returns.append(relative_return)\n",
    "    \n",
    "    # Print relative return for each stock\n",
    "    print(f'Ticker: {ticker}; Relative Return against S&P 500: {relative_return}\\n')\n",
    "    \n",
    "    # Pause for 1 second to avoid overloading the server with requests\n",
    "    time.sleep(1)"
   ]
  },
  {
   "cell_type": "code",
   "execution_count": 20,
   "id": "afb15b35-74ca-4cde-8f86-d1de2f1e8284",
   "metadata": {},
   "outputs": [],
   "source": [
    "# Create dataframe with relative returns and corresponding RS ratings\n",
    "rs_df = pd.DataFrame(list(zip(sp500_tickers, relative_returns)), columns=['Ticker', 'Relative Return'])"
   ]
  },
  {
   "cell_type": "code",
   "execution_count": 22,
   "id": "ad02777f-5b0e-415f-9c4a-4729097f19e1",
   "metadata": {},
   "outputs": [],
   "source": [
    "rs_df['RS_Rating'] = rs_df['Relative Return'].rank(pct=True) * 100"
   ]
  },
  {
   "cell_type": "code",
   "execution_count": 24,
   "id": "7af04777-356d-4a47-b1fd-db8779a2c212",
   "metadata": {},
   "outputs": [
    {
     "data": {
      "text/html": [
       "<div>\n",
       "<style scoped>\n",
       "    .dataframe tbody tr th:only-of-type {\n",
       "        vertical-align: middle;\n",
       "    }\n",
       "\n",
       "    .dataframe tbody tr th {\n",
       "        vertical-align: top;\n",
       "    }\n",
       "\n",
       "    .dataframe thead th {\n",
       "        text-align: right;\n",
       "    }\n",
       "</style>\n",
       "<table border=\"1\" class=\"dataframe\">\n",
       "  <thead>\n",
       "    <tr style=\"text-align: right;\">\n",
       "      <th></th>\n",
       "      <th>Ticker</th>\n",
       "      <th>Relative Return</th>\n",
       "      <th>RS_Rating</th>\n",
       "    </tr>\n",
       "  </thead>\n",
       "  <tbody>\n",
       "    <tr>\n",
       "      <th>0</th>\n",
       "      <td>A</td>\n",
       "      <td>NaN</td>\n",
       "      <td>NaN</td>\n",
       "    </tr>\n",
       "    <tr>\n",
       "      <th>1</th>\n",
       "      <td>AAL</td>\n",
       "      <td>NaN</td>\n",
       "      <td>NaN</td>\n",
       "    </tr>\n",
       "    <tr>\n",
       "      <th>2</th>\n",
       "      <td>AAP</td>\n",
       "      <td>NaN</td>\n",
       "      <td>NaN</td>\n",
       "    </tr>\n",
       "    <tr>\n",
       "      <th>3</th>\n",
       "      <td>AAPL</td>\n",
       "      <td>NaN</td>\n",
       "      <td>NaN</td>\n",
       "    </tr>\n",
       "    <tr>\n",
       "      <th>4</th>\n",
       "      <td>ABBV</td>\n",
       "      <td>NaN</td>\n",
       "      <td>NaN</td>\n",
       "    </tr>\n",
       "    <tr>\n",
       "      <th>...</th>\n",
       "      <td>...</td>\n",
       "      <td>...</td>\n",
       "      <td>...</td>\n",
       "    </tr>\n",
       "    <tr>\n",
       "      <th>149</th>\n",
       "      <td>DXC</td>\n",
       "      <td>1.222658</td>\n",
       "      <td>76.056338</td>\n",
       "    </tr>\n",
       "    <tr>\n",
       "      <th>150</th>\n",
       "      <td>DXCM</td>\n",
       "      <td>0.370674</td>\n",
       "      <td>52.816901</td>\n",
       "    </tr>\n",
       "    <tr>\n",
       "      <th>151</th>\n",
       "      <td>EA</td>\n",
       "      <td>1.780410</td>\n",
       "      <td>86.619718</td>\n",
       "    </tr>\n",
       "    <tr>\n",
       "      <th>152</th>\n",
       "      <td>EBAY</td>\n",
       "      <td>0.547714</td>\n",
       "      <td>59.859155</td>\n",
       "    </tr>\n",
       "    <tr>\n",
       "      <th>153</th>\n",
       "      <td>ECL</td>\n",
       "      <td>-0.625660</td>\n",
       "      <td>7.042254</td>\n",
       "    </tr>\n",
       "  </tbody>\n",
       "</table>\n",
       "<p>154 rows × 3 columns</p>\n",
       "</div>"
      ],
      "text/plain": [
       "    Ticker  Relative Return  RS_Rating\n",
       "0        A              NaN        NaN\n",
       "1      AAL              NaN        NaN\n",
       "2      AAP              NaN        NaN\n",
       "3     AAPL              NaN        NaN\n",
       "4     ABBV              NaN        NaN\n",
       "..     ...              ...        ...\n",
       "149    DXC         1.222658  76.056338\n",
       "150   DXCM         0.370674  52.816901\n",
       "151     EA         1.780410  86.619718\n",
       "152   EBAY         0.547714  59.859155\n",
       "153    ECL        -0.625660   7.042254\n",
       "\n",
       "[154 rows x 3 columns]"
      ]
     },
     "execution_count": 24,
     "metadata": {},
     "output_type": "execute_result"
    }
   ],
   "source": [
    "rs_df"
   ]
  },
  {
   "cell_type": "code",
   "execution_count": 23,
   "id": "41779501-ade0-4052-ae2f-88fa4739b2f2",
   "metadata": {},
   "outputs": [
    {
     "name": "stdout",
     "output_type": "stream",
     "text": [
      "    Ticker  Relative Return  RS_Rating\n",
      "0        A              NaN        NaN\n",
      "1      AAL              NaN        NaN\n",
      "2      AAP              NaN        NaN\n",
      "3     AAPL              NaN        NaN\n",
      "4     ABBV              NaN        NaN\n",
      "..     ...              ...        ...\n",
      "149    DXC         1.222658  76.056338\n",
      "150   DXCM         0.370674  52.816901\n",
      "151     EA         1.780410  86.619718\n",
      "152   EBAY         0.547714  59.859155\n",
      "153    ECL        -0.625660   7.042254\n",
      "\n",
      "[154 rows x 3 columns]\n"
     ]
    }
   ],
   "source": [
    "# Print RS Ratings for all stocks\n",
    "print(rs_df)"
   ]
  },
  {
   "cell_type": "code",
   "execution_count": null,
   "id": "3529d7a9-271c-4a01-9f66-1431934d005b",
   "metadata": {},
   "outputs": [],
   "source": []
  }
 ],
 "metadata": {
  "kernelspec": {
   "display_name": "Python 3 (ipykernel)",
   "language": "python",
   "name": "python3"
  },
  "language_info": {
   "codemirror_mode": {
    "name": "ipython",
    "version": 3
   },
   "file_extension": ".py",
   "mimetype": "text/x-python",
   "name": "python",
   "nbconvert_exporter": "python",
   "pygments_lexer": "ipython3",
   "version": "3.11.0"
  }
 },
 "nbformat": 4,
 "nbformat_minor": 5
}
