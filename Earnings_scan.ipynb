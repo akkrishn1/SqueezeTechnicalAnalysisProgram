{
 "cells": [
  {
   "cell_type": "code",
   "execution_count": 9,
   "id": "f25e2c3b-1565-41de-9cd0-122a4414ac77",
   "metadata": {
    "tags": []
   },
   "outputs": [],
   "source": [
    "# Imports\n",
    "from pandas_datareader import data as pdr\n",
    "from yahoo_fin import stock_info as si\n",
    "from pandas import ExcelWriter\n",
    "import yfinance as yf\n",
    "import pandas as pd\n",
    "import datetime\n",
    "import time\n",
    "yf.pdr_override()\n",
    "from pathlib import Path\n",
    "import numpy as np"
   ]
  },
  {
   "cell_type": "code",
   "execution_count": 10,
   "id": "c094a3e7-de8c-42d8-bf7f-b1c1cc6e3192",
   "metadata": {
    "tags": []
   },
   "outputs": [],
   "source": [
    "# scan a list of stocks from a csv file of Investors Business Daily recommendations\n",
    "csv_path = Path(\"Dayakar_List_3.csv\")\n",
    "ibd_df = pd.read_csv(csv_path)"
   ]
  },
  {
   "cell_type": "code",
   "execution_count": 11,
   "id": "dfa1167b-20cd-42f1-90db-255dc4f52e62",
   "metadata": {
    "tags": []
   },
   "outputs": [
    {
     "data": {
      "text/html": [
       "<div>\n",
       "<style scoped>\n",
       "    .dataframe tbody tr th:only-of-type {\n",
       "        vertical-align: middle;\n",
       "    }\n",
       "\n",
       "    .dataframe tbody tr th {\n",
       "        vertical-align: top;\n",
       "    }\n",
       "\n",
       "    .dataframe thead th {\n",
       "        text-align: right;\n",
       "    }\n",
       "</style>\n",
       "<table border=\"1\" class=\"dataframe\">\n",
       "  <thead>\n",
       "    <tr style=\"text-align: right;\">\n",
       "      <th></th>\n",
       "      <th>Symbol</th>\n",
       "    </tr>\n",
       "  </thead>\n",
       "  <tbody>\n",
       "    <tr>\n",
       "      <th>29</th>\n",
       "      <td>SNOW</td>\n",
       "    </tr>\n",
       "    <tr>\n",
       "      <th>30</th>\n",
       "      <td>TEAM</td>\n",
       "    </tr>\n",
       "    <tr>\n",
       "      <th>31</th>\n",
       "      <td>TMO</td>\n",
       "    </tr>\n",
       "    <tr>\n",
       "      <th>32</th>\n",
       "      <td>ULTA</td>\n",
       "    </tr>\n",
       "    <tr>\n",
       "      <th>33</th>\n",
       "      <td>UPST</td>\n",
       "    </tr>\n",
       "  </tbody>\n",
       "</table>\n",
       "</div>"
      ],
      "text/plain": [
       "   Symbol\n",
       "29   SNOW\n",
       "30   TEAM\n",
       "31    TMO\n",
       "32   ULTA\n",
       "33   UPST"
      ]
     },
     "execution_count": 11,
     "metadata": {},
     "output_type": "execute_result"
    }
   ],
   "source": [
    "ibd_df.tail()"
   ]
  },
  {
   "cell_type": "code",
   "execution_count": 12,
   "id": "831431bc-7272-4648-a614-dd93c72e221a",
   "metadata": {
    "tags": []
   },
   "outputs": [],
   "source": [
    "# Variables, tickers from the IBD list\n",
    "#tickers = si.tickers_sp500()\n",
    "tickers = ibd_df[\"Symbol\"]\n",
    "tickers = [item.replace(\".\", \"-\") for item in tickers] # Yahoo Finance uses dashes instead of dots\n",
    "index_name = 'IBD' # S&P 500\n",
    "exportList = pd.DataFrame(columns=['Stock', \"RS_Rating\", \"50 Day MA\", \"150 Day Ma\", \"200 Day MA\", \"52 Week Low\", \"52 week High\"])\n",
    "returns_multiples = []"
   ]
  },
  {
   "cell_type": "code",
   "execution_count": 13,
   "id": "2ac02a6e-8d46-4111-b020-6856cf194c85",
   "metadata": {
    "tags": []
   },
   "outputs": [],
   "source": [
    "# Variables, tickers from the IBD list\n",
    "#tickers = si.tickers_sp500()\n",
    "tickers = ibd_df[\"Symbol\"]\n",
    "tickers = [item.replace(\".\", \"-\") for item in tickers] # Yahoo Finance uses dashes instead of dots\n",
    "index_name = 'IBD' # S&P 500\n",
    "exportList = pd.DataFrame(columns=['Stock', \"RS_Rating\", \"50 Day MA\", \"150 Day Ma\", \"200 Day MA\", \"52 Week Low\", \"52 week High\"])\n",
    "returns_multiples = []"
   ]
  },
  {
   "cell_type": "code",
   "execution_count": 14,
   "id": "4a0afec6-210c-4651-9203-38607dc48718",
   "metadata": {
    "scrolled": true,
    "tags": []
   },
   "outputs": [
    {
     "ename": "TypeError",
     "evalue": "string indices must be integers, not 'str'",
     "output_type": "error",
     "traceback": [
      "\u001b[1;31m---------------------------------------------------------------------------\u001b[0m",
      "\u001b[1;31mTypeError\u001b[0m                                 Traceback (most recent call last)",
      "Cell \u001b[1;32mIn[14], line 6\u001b[0m\n\u001b[0;32m      4\u001b[0m \u001b[38;5;28;01mwith\u001b[39;00m \u001b[38;5;28mopen\u001b[39m(file_path_d, \u001b[38;5;124m\"\u001b[39m\u001b[38;5;124mw\u001b[39m\u001b[38;5;124m\"\u001b[39m) \u001b[38;5;28;01mas\u001b[39;00m o:\n\u001b[0;32m      5\u001b[0m     \u001b[38;5;28;01mfor\u001b[39;00m ticker \u001b[38;5;129;01min\u001b[39;00m tickers:\n\u001b[1;32m----> 6\u001b[0m         earnings_dates \u001b[38;5;241m=\u001b[39m si\u001b[38;5;241m.\u001b[39mget_next_earnings_date(ticker)\n\u001b[0;32m      7\u001b[0m         \u001b[38;5;28;01mwith\u001b[39;00m contextlib\u001b[38;5;241m.\u001b[39mredirect_stdout(o):\n\u001b[0;32m      8\u001b[0m             \u001b[38;5;28mprint\u001b[39m (\u001b[38;5;124mf\u001b[39m\u001b[38;5;124m'\u001b[39m\u001b[38;5;124mThe next earnings date for \u001b[39m\u001b[38;5;132;01m{\u001b[39;00mticker\u001b[38;5;132;01m}\u001b[39;00m\u001b[38;5;124m is \u001b[39m\u001b[38;5;132;01m{\u001b[39;00mearnings_dates\u001b[38;5;132;01m}\u001b[39;00m\u001b[38;5;124m'\u001b[39m)\n",
      "File \u001b[1;32m~\\anaconda3\\Lib\\site-packages\\yahoo_fin\\stock_info.py:823\u001b[0m, in \u001b[0;36mget_next_earnings_date\u001b[1;34m(ticker)\u001b[0m\n\u001b[0;32m    819\u001b[0m new_url \u001b[38;5;241m=\u001b[39m base_earnings_url \u001b[38;5;241m+\u001b[39m \u001b[38;5;124m\"\u001b[39m\u001b[38;5;124m/\u001b[39m\u001b[38;5;124m\"\u001b[39m \u001b[38;5;241m+\u001b[39m ticker\n\u001b[0;32m    821\u001b[0m parsed_result \u001b[38;5;241m=\u001b[39m _parse_earnings_json(new_url)\n\u001b[1;32m--> 823\u001b[0m temp \u001b[38;5;241m=\u001b[39m parsed_result[\u001b[38;5;124m'\u001b[39m\u001b[38;5;124mcontext\u001b[39m\u001b[38;5;124m'\u001b[39m][\u001b[38;5;124m'\u001b[39m\u001b[38;5;124mdispatcher\u001b[39m\u001b[38;5;124m'\u001b[39m][\u001b[38;5;124m'\u001b[39m\u001b[38;5;124mstores\u001b[39m\u001b[38;5;124m'\u001b[39m][\u001b[38;5;124m'\u001b[39m\u001b[38;5;124mQuoteSummaryStore\u001b[39m\u001b[38;5;124m'\u001b[39m][\u001b[38;5;124m'\u001b[39m\u001b[38;5;124mcalendarEvents\u001b[39m\u001b[38;5;124m'\u001b[39m][\u001b[38;5;124m'\u001b[39m\u001b[38;5;124mearnings\u001b[39m\u001b[38;5;124m'\u001b[39m][\u001b[38;5;124m'\u001b[39m\u001b[38;5;124mearningsDate\u001b[39m\u001b[38;5;124m'\u001b[39m][\u001b[38;5;241m0\u001b[39m][\u001b[38;5;124m'\u001b[39m\u001b[38;5;124mraw\u001b[39m\u001b[38;5;124m'\u001b[39m]\n\u001b[0;32m    825\u001b[0m \u001b[38;5;28;01mreturn\u001b[39;00m datetime\u001b[38;5;241m.\u001b[39mdatetime\u001b[38;5;241m.\u001b[39mfromtimestamp(temp)\n",
      "\u001b[1;31mTypeError\u001b[0m: string indices must be integers, not 'str'"
     ]
    }
   ],
   "source": [
    "import yahoo_fin.stock_info as si\n",
    "import contextlib\n",
    "file_path_d = f'earnings_scan_Dayakar.txt'\n",
    "with open(file_path_d, \"w\") as o:\n",
    "    for ticker in tickers:\n",
    "        earnings_dates = si.get_next_earnings_date(ticker)\n",
    "        with contextlib.redirect_stdout(o):\n",
    "            print (f'The next earnings date for {ticker} is {earnings_dates}')\n",
    "        time.sleep(1)"
   ]
  },
  {
   "cell_type": "code",
   "execution_count": 22,
   "id": "3c0d0035-b161-4e9a-a8db-d9577a96324f",
   "metadata": {},
   "outputs": [
    {
     "data": {
      "text/plain": [
       "(221, b'2.0.0 closing connection z15sm8962690pfh.201 - gsmtp')"
      ]
     },
     "execution_count": 22,
     "metadata": {},
     "output_type": "execute_result"
    }
   ],
   "source": [
    "# Python code to illustrate Sending mail with attachments \n",
    "# from your Gmail account  \n",
    "  \n",
    "# libraries to be imported \n",
    "import smtplib \n",
    "from email.mime.multipart import MIMEMultipart \n",
    "from email.mime.text import MIMEText \n",
    "from email.mime.base import MIMEBase \n",
    "from email import encoders \n",
    "   \n",
    "fromaddr = \"akkrishn1@gmail.com\"\n",
    "toaddr = \"dayakar1471@gmail.com\"\n",
    "   \n",
    "# instance of MIMEMultipart \n",
    "msg = MIMEMultipart() \n",
    "  \n",
    "# storing the senders email address   \n",
    "msg['From'] = fromaddr \n",
    "  \n",
    "# storing the receivers email address  \n",
    "msg['To'] = toaddr \n",
    "  \n",
    "# storing the subject  \n",
    "msg['Subject'] = f\"Scan output earnings dates\"\n",
    "  \n",
    "# string to store the body of the mail \n",
    "body = f\"Here is the earnings scan for your list.  Looks like the problem is fixed.\"\n",
    "  \n",
    "# attach the body with the msg instance \n",
    "msg.attach(MIMEText(body, 'plain')) \n",
    "  \n",
    "# open the file to be sent  \n",
    "filename = f\"earnings_scan_Dayakar.txt\"\n",
    "attachment = open(f\"C:/Users/akkrishn/SqueezeMeBabyOneMoreTime/Earnings Scan/earnings_scan_Dayakar.txt\", \"rb\") \n",
    "  \n",
    "# instance of MIMEBase and named as p \n",
    "p = MIMEBase('application', 'octet-stream') \n",
    "  \n",
    "# To change the payload into encoded form \n",
    "p.set_payload((attachment).read()) \n",
    "  \n",
    "# encode into base64 \n",
    "encoders.encode_base64(p) \n",
    "   \n",
    "p.add_header('Content-Disposition', \"attachment; filename= %s\" % filename) \n",
    "  \n",
    "# attach the instance 'p' to instance 'msg' \n",
    "msg.attach(p) \n",
    "  \n",
    "# creates SMTP session \n",
    "s = smtplib.SMTP('smtp.gmail.com', 587) \n",
    "  \n",
    "# start TLS for security \n",
    "s.starttls() \n",
    "  \n",
    "# Authentication \n",
    "s.login(fromaddr, \"Kr15hn40709\") \n",
    "  \n",
    "# Converts the Multipart msg into a string \n",
    "text = msg.as_string() \n",
    "  \n",
    "# sending the mail \n",
    "s.sendmail(fromaddr, toaddr, text) \n",
    "  \n",
    "# terminating the session \n",
    "s.quit() "
   ]
  },
  {
   "cell_type": "code",
   "execution_count": 7,
   "id": "c9db7c2f-cec2-45fc-877d-e5e35fe4c518",
   "metadata": {
    "scrolled": true,
    "tags": []
   },
   "outputs": [],
   "source": [
    "import yahoo_fin.stock_info as si\n",
    "import contextlib\n",
    "file_path_f = f'Dayakar_List_stats.txt'\n",
    "with open(file_path_f, \"w\") as o:\n",
    "    for ticker in tickers:\n",
    "        valuation = si.get_stats_valuation(ticker, headers={'User-agent': 'Mozilla/5.0'})\n",
    "        stats = si.get_stats(ticker, headers={'User-agent': 'Mozilla/5.0'})\n",
    "        insiders = stats['Value'][12]\n",
    "        institutions = stats['Value'][13]\n",
    "        percent_short = stats['Value'][16]\n",
    "        shares_short = stats['Value'][18]\n",
    "        beta = stats['Value'][0]\n",
    "        \n",
    "        with contextlib.redirect_stdout(o):\n",
    "            print(f'Ticker: {ticker}, Insider ownership: {insiders}, institutions: {institutions}, percent short: {percent_short}, shares short: {shares_short}, beta: {beta}')\n",
    "        time.sleep(1)"
   ]
  },
  {
   "cell_type": "code",
   "execution_count": 24,
   "id": "ea9ebe30-b50f-4ca9-89fd-650e0204d8fb",
   "metadata": {},
   "outputs": [
    {
     "data": {
      "text/plain": [
       "(221, b'2.0.0 closing connection s40sm7289749pfg.144 - gsmtp')"
      ]
     },
     "execution_count": 24,
     "metadata": {},
     "output_type": "execute_result"
    }
   ],
   "source": [
    "# Python code to illustrate Sending mail with attachments \n",
    "# from your Gmail account  \n",
    "  \n",
    "# libraries to be imported \n",
    "import smtplib \n",
    "from email.mime.multipart import MIMEMultipart \n",
    "from email.mime.text import MIMEText \n",
    "from email.mime.base import MIMEBase \n",
    "from email import encoders \n",
    "   \n",
    "fromaddr = \"akkrishn1@gmail.com\"\n",
    "toaddr = \"dayakar1471@gmail.com\"\n",
    "   \n",
    "# instance of MIMEMultipart \n",
    "msg = MIMEMultipart() \n",
    "  \n",
    "# storing the senders email address   \n",
    "msg['From'] = fromaddr \n",
    "  \n",
    "# storing the receivers email address  \n",
    "msg['To'] = toaddr \n",
    "  \n",
    "# storing the subject  \n",
    "msg['Subject'] = f\"Scan output company stats\"\n",
    "  \n",
    "# string to store the body of the mail \n",
    "body = f\"Here is the statistics scan for your list.\"\n",
    "  \n",
    "# attach the body with the msg instance \n",
    "msg.attach(MIMEText(body, 'plain')) \n",
    "  \n",
    "# open the file to be sent  \n",
    "filename = f\"earnings_scan_Dayakar.txt\"\n",
    "attachment = open(f\"C:/Users/akkrishn/SqueezeMeBabyOneMoreTime/Earnings Scan/earnings_scan_Dayakar.txt\", \"rb\") \n",
    "  \n",
    "# instance of MIMEBase and named as p \n",
    "p = MIMEBase('application', 'octet-stream') \n",
    "  \n",
    "# To change the payload into encoded form \n",
    "p.set_payload((attachment).read()) \n",
    "  \n",
    "# encode into base64 \n",
    "encoders.encode_base64(p) \n",
    "   \n",
    "p.add_header('Content-Disposition', \"attachment; filename= %s\" % filename) \n",
    "  \n",
    "# attach the instance 'p' to instance 'msg' \n",
    "msg.attach(p) \n",
    "  \n",
    "# creates SMTP session \n",
    "s = smtplib.SMTP('smtp.gmail.com', 587) \n",
    "  \n",
    "# start TLS for security \n",
    "s.starttls() \n",
    "  \n",
    "# Authentication \n",
    "s.login(fromaddr, \"Kr15hn40709\") \n",
    "  \n",
    "# Converts the Multipart msg into a string \n",
    "text = msg.as_string() \n",
    "  \n",
    "# sending the mail \n",
    "s.sendmail(fromaddr, toaddr, text) \n",
    "  \n",
    "# terminating the session \n",
    "s.quit() "
   ]
  },
  {
   "cell_type": "code",
   "execution_count": null,
   "id": "e04bd6f5-5e3d-489a-836b-e52c7e9aca5a",
   "metadata": {},
   "outputs": [],
   "source": []
  }
 ],
 "metadata": {
  "kernelspec": {
   "display_name": "Python 3 (ipykernel)",
   "language": "python",
   "name": "python3"
  },
  "language_info": {
   "codemirror_mode": {
    "name": "ipython",
    "version": 3
   },
   "file_extension": ".py",
   "mimetype": "text/x-python",
   "name": "python",
   "nbconvert_exporter": "python",
   "pygments_lexer": "ipython3",
   "version": "3.11.0"
  }
 },
 "nbformat": 4,
 "nbformat_minor": 5
}
